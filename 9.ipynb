{
 "cells": [
  {
   "cell_type": "markdown",
   "metadata": {},
   "source": [
    "### (A) Write a program to fill a circle using Flood Fill Algorithm"
   ]
  },
  {
   "cell_type": "code",
   "execution_count": 2,
   "metadata": {},
   "outputs": [
    {
     "data": {
      "image/png": "[encoded data removed]",
      "text/plain": [
       "<Figure size 432x288 with 1 Axes>"
      ]
     },
     "metadata": {
      "needs_background": "light"
     },
     "output_type": "display_data"
    }
   ],
   "source": [
    "import matplotlib.pyplot as plt\n",
    "\n",
    "def flood_fill(image, x, y, target_color, fill_color):\n",
    "    if x < 0 or x >= len(image) or y < 0 or y >= len(image[0]) or image[x][y] != target_color or image[x][y] == fill_color:\n",
    "        return\n",
    "    image[x][y] = fill_color\n",
    "    flood_fill(image, x+1, y, target_color, fill_color)\n",
    "    flood_fill(image, x-1, y, target_color, fill_color)\n",
    "    flood_fill(image, x, y+1, target_color, fill_color)\n",
    "    flood_fill(image, x, y-1, target_color, fill_color)\n",
    "\n",
    "def draw_circle(image, center_x, center_y, radius, fill_color):\n",
    "    x = radius\n",
    "    y = 0\n",
    "    P = 1 - radius\n",
    "    while x > y:\n",
    "        y += 1\n",
    "        if P <= 0:\n",
    "            P = P + 2 * y + 1\n",
    "        else:\n",
    "            x -= 1\n",
    "            P = P + 2 * y - 2 * x + 1\n",
    "        if x < y:\n",
    "            break\n",
    "        if center_x + x < len(image) and center_y + y < len(image[0]):\n",
    "            image[center_x + x][center_y + y] = fill_color\n",
    "        if center_x - x >= 0 and center_y + y < len(image[0]):\n",
    "            image[center_x - x][center_y + y] = fill_color\n",
    "        if center_x + x < len(image) and center_y - y >= 0:\n",
    "            image[center_x + x][center_y - y] = fill_color\n",
    "        if center_x - x >= 0 and center_y - y >= 0:\n",
    "            image[center_x - x][center_y - y] = fill_color\n",
    "        if x != y:\n",
    "            if center_x + y < len(image) and center_y + x < len(image[0]):\n",
    "                image[center_x + y][center_y + x] = fill_color\n",
    "            if center_x - y >= 0 and center_y + x < len(image[0]):\n",
    "                image[center_x - y][center_y + x] = fill_color\n",
    "            if center_x + y < len(image) and center_y - x >= 0:\n",
    "                image[center_x + y][center_y - x] = fill_color\n",
    "            if center_x - y >= 0 and center_y - x >= 0:\n",
    "                image[center_x - y][center_y - x] = fill_color\n",
    "\n",
    "def main():\n",
    "    width = 20\n",
    "    height = 20\n",
    "    image = [[0 for _ in range(width)] for _ in range(height)]\n",
    "    \n",
    "    # Draw circle\n",
    "    draw_circle(image, 10, 10, 5, 1)\n",
    "    \n",
    "    # Perform flood fill\n",
    "    flood_fill(image, 10, 10, 0, 2)\n",
    "    \n",
    "    # Plot filled circle\n",
    "    plt.imshow(image, cmap='viridis', origin='lower')\n",
    "    plt.title('Flood Fill Algorithm: Filled Circle')\n",
    "    plt.show()\n",
    "\n",
    "if __name__ == \"__main__\":\n",
    "    main()\n"
   ]
  },
  {
   "cell_type": "markdown",
   "metadata": {},
   "source": [
    "### (B) Write a program to fill a circle using Boundary Fill Algorithm"
   ]
  },
  {
   "cell_type": "code",
   "execution_count": 3,
   "metadata": {},
   "outputs": [
    {
     "data": {
      "image/png": "[encoded data removed]",
      "text/plain": [
       "<Figure size 432x288 with 1 Axes>"
      ]
     },
     "metadata": {
      "needs_background": "light"
     },
     "output_type": "display_data"
    }
   ],
   "source": [
    "import matplotlib.pyplot as plt\n",
    "\n",
    "def boundary_fill(image, x, y, target_color, fill_color):\n",
    "    if image[x][y] != target_color and image[x][y] != fill_color:\n",
    "        image[x][y] = fill_color\n",
    "        boundary_fill(image, x+1, y, target_color, fill_color)\n",
    "        boundary_fill(image, x-1, y, target_color, fill_color)\n",
    "        boundary_fill(image, x, y+1, target_color, fill_color)\n",
    "        boundary_fill(image, x, y-1, target_color, fill_color)\n",
    "\n",
    "def draw_circle(image, center_x, center_y, radius, fill_color):\n",
    "    x = radius\n",
    "    y = 0\n",
    "    P = 1 - radius\n",
    "    while x > y:\n",
    "        y += 1\n",
    "        if P <= 0:\n",
    "            P = P + 2 * y + 1\n",
    "        else:\n",
    "            x -= 1\n",
    "            P = P + 2 * y - 2 * x + 1\n",
    "        if x < y:\n",
    "            break\n",
    "        if center_x + x < len(image) and center_y + y < len(image[0]):\n",
    "            image[center_x + x][center_y + y] = fill_color\n",
    "        if center_x - x >= 0 and center_y + y < len(image[0]):\n",
    "            image[center_x - x][center_y + y] = fill_color\n",
    "        if center_x + x < len(image) and center_y - y >= 0:\n",
    "            image[center_x + x][center_y - y] = fill_color\n",
    "        if center_x - x >= 0 and center_y - y >= 0:\n",
    "            image[center_x - x][center_y - y] = fill_color\n",
    "        if x != y:\n",
    "            if center_x + y < len(image) and center_y + x < len(image[0]):\n",
    "                image[center_x + y][center_y + x] = fill_color\n",
    "            if center_x - y >= 0 and center_y + x < len(image[0]):\n",
    "                image[center_x - y][center_y + x] = fill_color\n",
    "            if center_x + y < len(image) and center_y - x >= 0:\n",
    "                image[center_x + y][center_y - x] = fill_color\n",
    "            if center_x - y >= 0 and center_y - x >= 0:\n",
    "                image[center_x - y][center_y - x] = fill_color\n",
    "\n",
    "def main():\n",
    "    width = 20\n",
    "    height = 20\n",
    "    image = [[0 for _ in range(width)] for _ in range(height)]\n",
    "    \n",
    "    # Draw circle\n",
    "    draw_circle(image, 10, 10, 5, 1)\n",
    "    \n",
    "    # Perform boundary fill\n",
    "    boundary_fill(image, 10, 10, 0, 2)\n",
    "    \n",
    "    # Plot filled circle\n",
    "    plt.imshow(image, cmap='viridis', origin='lower')\n",
    "    plt.title('Boundary Fill Algorithm: Filled Circle')\n",
    "    plt.show()\n",
    "\n",
    "if __name__ == \"__main__\":\n",
    "    main()\n"
   ]
  },
  {
   "cell_type": "code",
   "execution_count": null,
   "metadata": {},
   "outputs": [],
   "source": []
  }
 ],
 "metadata": {
  "kernelspec": {
   "display_name": "Python 3",
   "language": "python",
   "name": "python3"
  },
  "language_info": {
   "codemirror_mode": {
    "name": "ipython",
    "version": 3
   },
   "file_extension": ".py",
   "mimetype": "text/x-python",
   "name": "python",
   "nbconvert_exporter": "python",
   "pygments_lexer": "ipython3",
   "version": "3.8.10"
  }
 },
 "nbformat": 4,
 "nbformat_minor": 4
}
