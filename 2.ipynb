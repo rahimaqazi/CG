{
 "cells": [
  {
   "cell_type": "markdown",
   "metadata": {},
   "source": [
    "2.Solve the following:"
   ]
  },
  {
   "cell_type": "markdown",
   "metadata": {},
   "source": [
    "b. Draw a simple hut on the screen"
   ]
  },
  {
   "cell_type": "code",
   "execution_count": 1,
   "metadata": {},
   "outputs": [],
   "source": [
    "import turtle\n",
    "\n",
    "# Create a turtle object\n",
    "t = turtle.Turtle()\n",
    "\n",
    "# Set background color\n",
    "turtle.bgcolor(\"lightblue\")\n",
    "\n",
    "# Draw the base of the hut (rectangle)\n",
    "t.fillcolor(\"brown\")\n",
    "t.begin_fill()\n",
    "t.forward(150)\n",
    "t.right(90)\n",
    "t.forward(100)\n",
    "t.right(90)\n",
    "t.forward(150)\n",
    "t.right(90)\n",
    "t.forward(100)\n",
    "t.end_fill()\n",
    "\n",
    "# Draw the roof (triangle)\n",
    "t.fillcolor(\"orange\")\n",
    "t.begin_fill()\n",
    "t.right(30)\n",
    "t.forward(150)\n",
    "t.right(120)\n",
    "t.forward(150)\n",
    "t.right(120)\n",
    "t.forward(150)\n",
    "t.end_fill()\n",
    "\n",
    "# Draw the door (rectangle)\n",
    "t.penup()\n",
    "t.goto(50, -100)\n",
    "t.pendown()\n",
    "t.fillcolor(\"brown\")\n",
    "t.begin_fill()\n",
    "t.forward(40)\n",
    "t.right(90)\n",
    "t.forward(70)\n",
    "t.right(90)\n",
    "t.forward(40)\n",
    "t.right(90)\n",
    "t.forward(70)\n",
    "t.end_fill()\n",
    "\n",
    "# Draw a window (optional)\n",
    "t.penup()\n",
    "t.goto(120, -20)\n",
    "t.pendown()\n",
    "t.fillcolor(\"yellow\")\n",
    "t.begin_fill()\n",
    "t.forward(20)\n",
    "t.right(90)\n",
    "t.forward(20)\n",
    "t.right(90)\n",
    "t.forward(20)\n",
    "t.right(90)\n",
    "t.forward(20)\n",
    "t.end_fill()\n",
    "\n",
    "# Hide the turtle\n",
    "t.hideturtle()\n",
    "\n",
    "# Keep the window open until closed manually\n",
    "turtle.done()"
   ]
  },
  {
   "cell_type": "code",
   "execution_count": null,
   "metadata": {},
   "outputs": [],
   "source": []
  }
 ],
 "metadata": {
  "kernelspec": {
   "display_name": "Python 3",
   "language": "python",
   "name": "python3"
  },
  "language_info": {
   "codemirror_mode": {
    "name": "ipython",
    "version": 3
   },
   "file_extension": ".py",
   "mimetype": "text/x-python",
   "name": "python",
   "nbconvert_exporter": "python",
   "pygments_lexer": "ipython3",
   "version": "3.8.10"
  }
 },
 "nbformat": 4,
 "nbformat_minor": 4
}
