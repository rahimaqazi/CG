{
 "cells": [
  {
   "cell_type": "markdown",
   "metadata": {},
   "source": [
    "4.Solve the following:\n"
   ]
  },
  {
   "cell_type": "markdown",
   "metadata": {},
   "source": [
    "a. Develop the program for DDA Line drawing algorithm"
   ]
  },
  {
   "cell_type": "code",
   "execution_count": 6,
   "metadata": {},
   "outputs": [],
   "source": [
    "# Python program for DDA line generation \n",
    "\n",
    "from matplotlib import pyplot as plt \n",
    "\n",
    "# DDA Function for line generation \n",
    "\n",
    "\n",
    "def DDA(x0, y0, x1, y1): \n",
    "\n",
    "\t# find absolute differences \n",
    "\tdx = abs(x0 - x1) \n",
    "\tdy = abs(y0 - y1) \n",
    "\n",
    "\t# find maximum difference \n",
    "\tsteps = max(dx, dy) \n",
    "\n",
    "\t# calculate the increment in x and y \n",
    "\txinc = dx/steps \n",
    "\tyinc = dy/steps \n",
    "\n",
    "\t# start with 1st point \n",
    "\tx = float(x0) \n",
    "\ty = float(y0) \n",
    "\n",
    "\t# make a list for coordinates \n",
    "\tx_coorinates = [] \n",
    "\ty_coorinates = [] \n",
    "\n",
    "\tfor i in range(steps): \n",
    "\t\t# append the x,y coordinates in respective list \n",
    "\t\tx_coorinates.append(x) \n",
    "\t\ty_coorinates.append(y) \n",
    "\n",
    "\t\t# increment the values \n",
    "\t\tx = x + xinc \n",
    "\t\ty = y + yinc \n",
    "\n",
    "\t# plot the line with coordinates list \n",
    "\tplt.plot(x_coorinates, y_coorinates, marker=\"o\", \n",
    "\t\t\tmarkersize=1, markerfacecolor=\"green\") \n",
    "\tplt.show() \n",
    "\n",
    "\n",
    "# Driver code \n",
    "\n",
    "\n",
    "\t# coordinates of 1st point \n",
    "\tx0, y0 = 20, 20\n",
    "\n",
    "\t# coordinates of 2nd point \n",
    "\tx1, y1 = 60, 50\n",
    "\n",
    "\t# Function call \n",
    "\tDDA(x0, y0, x1, y1) \n",
    "\n",
    "\t# This code is contributed by 111arpit1 "
   ]
  },
  {
   "cell_type": "markdown",
   "metadata": {},
   "source": [
    "b. Develop the program for Bresenham’s Line drawing algorithm"
   ]
  },
  {
   "cell_type": "code",
   "execution_count": 9,
   "metadata": {},
   "outputs": [
    {
     "data": {
      "image/png": "[encoded data removed]",
      "text/plain": [
       "<Figure size 432x288 with 1 Axes>"
      ]
     },
     "metadata": {
      "needs_background": "light"
     },
     "output_type": "display_data"
    }
   ],
   "source": [
    "import matplotlib.pyplot as plt\n",
    "\n",
    "def draw_line_bresenham(x1, y1, x2, y2):\n",
    "    # Calculate differences in coordinates\n",
    "    dx = abs(x2 - x1)\n",
    "    dy = abs(y2 - y1)\n",
    "\n",
    "    # Determine the sign for x and y\n",
    "    sx = 1 if x1 < x2 else -1\n",
    "    sy = 1 if y1 < y2 else -1\n",
    "\n",
    "    # Initial decision parameter\n",
    "    decision_param = 2 * dy - dx\n",
    "\n",
    "    # Initialize starting coordinates\n",
    "    x = x1\n",
    "    y = y1\n",
    "\n",
    "    # Create lists to store the coordinates of the line\n",
    "    x_values = []\n",
    "    y_values = []\n",
    "\n",
    "    # Perform Bresenham's algorithm\n",
    "    while x != x2 or y != y2:\n",
    "        # Add the current point to the line\n",
    "        x_values.append(x)\n",
    "        y_values.append(y)\n",
    "\n",
    "        # Check if decision parameter is positive or negative\n",
    "        if decision_param > 0:\n",
    "            decision_param -= 2 * dx\n",
    "            y += sy\n",
    "\n",
    "        decision_param += 2 * dy\n",
    "        x += sx\n",
    "\n",
    "    # Add the last point to the line\n",
    "    x_values.append(x)\n",
    "    y_values.append(y)\n",
    "\n",
    "    return x_values, y_values\n",
    "\n",
    "# Example usage:\n",
    "x1, y1 = 1, 1\n",
    "x2, y2 = 8, 5\n",
    "\n",
    "x_values, y_values = draw_line_bresenham(x1, y1, x2, y2)\n",
    "\n",
    "# Plotting the line\n",
    "plt.plot(x_values, y_values, marker='o')\n",
    "plt.title(\"Bresenham's Line Drawing Algorithm\")\n",
    "plt.xlabel('X-axis')\n",
    "plt.ylabel('Y-axis')\n",
    "plt.grid(True)\n",
    "plt.show()\n",
    "\n"
   ]
  },
  {
   "cell_type": "code",
   "execution_count": null,
   "metadata": {},
   "outputs": [],
   "source": []
  }
 ],
 "metadata": {
  "kernelspec": {
   "display_name": "Python 3",
   "language": "python",
   "name": "python3"
  },
  "language_info": {
   "codemirror_mode": {
    "name": "ipython",
    "version": 3
   },
   "file_extension": ".py",
   "mimetype": "text/x-python",
   "name": "python",
   "nbconvert_exporter": "python",
   "pygments_lexer": "ipython3",
   "version": "3.8.10"
  }
 },
 "nbformat": 4,
 "nbformat_minor": 4
}
