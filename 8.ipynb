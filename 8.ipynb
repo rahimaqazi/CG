{
 "cells": [
  {
   "cell_type": "markdown",
   "metadata": {},
   "source": [
    "### (A) : Write a program to implement cohen-sutherland clipping"
   ]
  },
  {
   "cell_type": "code",
   "execution_count": 2,
   "metadata": {},
   "outputs": [
    {
     "name": "stdout",
     "output_type": "stream",
     "text": [
      "Enter starting point of line (x1 y1): 5 7\n",
      "Enter ending point of line (x2 y2): 9 10\n",
      "Enter window coordinates (xmin ymin xmax ymax): 4 12 14 8\n",
      "Line rejected\n"
     ]
    },
    {
     "data": {
      "image/png": "[encoded data removed]",
      "text/plain": [
       "<Figure size 432x288 with 1 Axes>"
      ]
     },
     "metadata": {
      "needs_background": "light"
     },
     "output_type": "display_data"
    }
   ],
   "source": [
    "import matplotlib.pyplot as plt\n",
    "\n",
    "# Defining region codes\n",
    "INSIDE = 0  # 0000\n",
    "LEFT = 1    # 0001\n",
    "RIGHT = 2   # 0010\n",
    "BOTTOM = 4  # 0100\n",
    "TOP = 8     # 1000\n",
    "\n",
    "# Function to compute region code for a point\n",
    "def computeCode(x, y, xmin, ymin, xmax, ymax):\n",
    "    code = INSIDE\n",
    "    if x < xmin:\n",
    "        code |= LEFT\n",
    "    elif x > xmax:\n",
    "        code |= RIGHT\n",
    "    if y < ymin:\n",
    "        code |= BOTTOM\n",
    "    elif y > ymax:\n",
    "        code |= TOP\n",
    "    return code\n",
    "\n",
    "# Cohen-Sutherland clipping algorithm\n",
    "def cohenSutherland(x1, y1, x2, y2, xmin, ymin, xmax, ymax):\n",
    "    code1 = computeCode(x1, y1, xmin, ymin, xmax, ymax)\n",
    "    code2 = computeCode(x2, y2, xmin, ymin, xmax, ymax)\n",
    "    accept = False\n",
    "\n",
    "    while True:\n",
    "        if code1 == 0 and code2 == 0:\n",
    "            accept = True\n",
    "            break\n",
    "        elif code1 & code2 != 0:\n",
    "            break\n",
    "        else:\n",
    "            x = 0\n",
    "            y = 0\n",
    "            if code1 != 0:\n",
    "                code_out = code1\n",
    "            else:\n",
    "                code_out = code2\n",
    "            \n",
    "            if code_out & TOP:\n",
    "                x = x1 + (x2 - x1) * (ymax - y1) / (y2 - y1)\n",
    "                y = ymax\n",
    "            elif code_out & BOTTOM:\n",
    "                x = x1 + (x2 - x1) * (ymin - y1) / (y2 - y1)\n",
    "                y = ymin\n",
    "            elif code_out & RIGHT:\n",
    "                y = y1 + (y2 - y1) * (xmax - x1) / (x2 - x1)\n",
    "                x = xmax\n",
    "            elif code_out & LEFT:\n",
    "                y = y1 + (y2 - y1) * (xmin - x1) / (x2 - x1)\n",
    "                x = xmin\n",
    "            \n",
    "            if code_out == code1:\n",
    "                x1, y1 = x, y\n",
    "                code1 = computeCode(x1, y1, xmin, ymin, xmax, ymax)\n",
    "            else:\n",
    "                x2, y2 = x, y\n",
    "                code2 = computeCode(x2, y2, xmin, ymin, xmax, ymax)\n",
    "\n",
    "    if accept:\n",
    "        plt.plot([x1, x2], [y1, y2], 'r')\n",
    "        plt.xlabel('X')\n",
    "        plt.ylabel('Y')\n",
    "        plt.title('Cohen-Sutherland Line Clipping')\n",
    "        plt.grid(True)\n",
    "        plt.show()\n",
    "    else:\n",
    "        print(\"Line rejected\")\n",
    "\n",
    "# Input line coordinates and window coordinates\n",
    "x1, y1 = map(int, input(\"Enter starting point of line (x1 y1): \").split())\n",
    "x2, y2 = map(int, input(\"Enter ending point of line (x2 y2): \").split())\n",
    "xmin, ymin, xmax, ymax = map(int, input(\"Enter window coordinates (xmin ymin xmax ymax): \").split())\n",
    "\n",
    "# Plotting window\n",
    "plt.plot([xmin, xmax, xmax, xmin, xmin], [ymin, ymin, ymax, ymax, ymin], 'b')\n",
    "plt.xlabel('X')\n",
    "plt.ylabel('Y')\n",
    "plt.title('Window')\n",
    "plt.grid(True)\n",
    "\n",
    "# Plotting input line\n",
    "plt.plot([x1, x2], [y1, y2], 'g', label='Original Line')\n",
    "\n",
    "# Calling Cohen-Sutherland function\n",
    "cohenSutherland(x1, y1, x2, y2, xmin, ymin, xmax, ymax)\n"
   ]
  },
  {
   "cell_type": "markdown",
   "metadata": {},
   "source": [
    "### (B) : Write a program to implement Liang--Barsky Line clipping Algorithm\n"
   ]
  },
  {
   "cell_type": "code",
   "execution_count": 3,
   "metadata": {},
   "outputs": [
    {
     "name": "stdout",
     "output_type": "stream",
     "text": [
      "Enter starting point of line (x1 y1): 5 6\n",
      "Enter ending point of line (x2 y2): 8 9\n",
      "Enter window coordinates (xmin ymin xmax ymax): 6 7 9 10\n"
     ]
    },
    {
     "ename": "UnboundLocalError",
     "evalue": "local variable 'p' referenced before assignment",
     "output_type": "error",
     "traceback": [
      "\u001b[0;31m---------------------------------------------------------------------------\u001b[0m",
      "\u001b[0;31mUnboundLocalError\u001b[0m                         Traceback (most recent call last)",
      "\u001b[0;32m<ipython-input-3-a6d04eda81d5>\u001b[0m in \u001b[0;36m<module>\u001b[0;34m\u001b[0m\n\u001b[1;32m     81\u001b[0m \u001b[0;34m\u001b[0m\u001b[0m\n\u001b[1;32m     82\u001b[0m \u001b[0;31m# Calling Liang-Barsky function\u001b[0m\u001b[0;34m\u001b[0m\u001b[0;34m\u001b[0m\u001b[0;34m\u001b[0m\u001b[0m\n\u001b[0;32m---> 83\u001b[0;31m \u001b[0mliangBarsky\u001b[0m\u001b[0;34m(\u001b[0m\u001b[0mx1\u001b[0m\u001b[0;34m,\u001b[0m \u001b[0my1\u001b[0m\u001b[0;34m,\u001b[0m \u001b[0mx2\u001b[0m\u001b[0;34m,\u001b[0m \u001b[0my2\u001b[0m\u001b[0;34m,\u001b[0m \u001b[0mxmin\u001b[0m\u001b[0;34m,\u001b[0m \u001b[0mymin\u001b[0m\u001b[0;34m,\u001b[0m \u001b[0mxmax\u001b[0m\u001b[0;34m,\u001b[0m \u001b[0mymax\u001b[0m\u001b[0;34m)\u001b[0m\u001b[0;34m\u001b[0m\u001b[0;34m\u001b[0m\u001b[0m\n\u001b[0m",
      "\u001b[0;32m<ipython-input-3-a6d04eda81d5>\u001b[0m in \u001b[0;36mliangBarsky\u001b[0;34m(x1, y1, x2, y2, xmin, ymin, xmax, ymax)\u001b[0m\n\u001b[1;32m     33\u001b[0m     \u001b[0mq4\u001b[0m \u001b[0;34m=\u001b[0m \u001b[0mymax\u001b[0m \u001b[0;34m-\u001b[0m \u001b[0my1\u001b[0m\u001b[0;34m\u001b[0m\u001b[0;34m\u001b[0m\u001b[0m\n\u001b[1;32m     34\u001b[0m \u001b[0;34m\u001b[0m\u001b[0m\n\u001b[0;32m---> 35\u001b[0;31m     \u001b[0mp\u001b[0m\u001b[0;34m,\u001b[0m \u001b[0mq\u001b[0m \u001b[0;34m=\u001b[0m \u001b[0mcomputePQ\u001b[0m\u001b[0;34m(\u001b[0m\u001b[0mp1\u001b[0m\u001b[0;34m,\u001b[0m \u001b[0mp2\u001b[0m\u001b[0;34m,\u001b[0m \u001b[0mp\u001b[0m\u001b[0;34m,\u001b[0m \u001b[0mq1\u001b[0m\u001b[0;34m)\u001b[0m\u001b[0;34m\u001b[0m\u001b[0;34m\u001b[0m\u001b[0m\n\u001b[0m\u001b[1;32m     36\u001b[0m     \u001b[0;32mif\u001b[0m \u001b[0mp\u001b[0m \u001b[0;34m>\u001b[0m \u001b[0mq\u001b[0m\u001b[0;34m:\u001b[0m\u001b[0;34m\u001b[0m\u001b[0;34m\u001b[0m\u001b[0m\n\u001b[1;32m     37\u001b[0m         \u001b[0;32mreturn\u001b[0m\u001b[0;34m\u001b[0m\u001b[0;34m\u001b[0m\u001b[0m\n",
      "\u001b[0;31mUnboundLocalError\u001b[0m: local variable 'p' referenced before assignment"
     ]
    },
    {
     "data": {
      "image/png": "[encoded data removed]",
      "text/plain": [
       "<Figure size 432x288 with 1 Axes>"
      ]
     },
     "metadata": {
      "needs_background": "light"
     },
     "output_type": "display_data"
    }
   ],
   "source": [
    "import matplotlib.pyplot as plt\n",
    "\n",
    "# Define constants\n",
    "LEFT = 1\n",
    "RIGHT = 2\n",
    "BOTTOM = 4\n",
    "TOP = 8\n",
    "\n",
    "# Function to compute values of P and Q for Liang-Barsky algorithm\n",
    "def computePQ(p1, p2, p, q):\n",
    "    delta = p2 - p1\n",
    "    if delta == 0:\n",
    "        if p1 < 0:\n",
    "            p = float('inf')\n",
    "            q = float('inf')\n",
    "        else:\n",
    "            p = -float('inf')\n",
    "            q = float('inf')\n",
    "    else:\n",
    "        p = p / delta\n",
    "        q = q / delta\n",
    "    return p, q\n",
    "\n",
    "# Function to perform Liang-Barsky clipping\n",
    "def liangBarsky(x1, y1, x2, y2, xmin, ymin, xmax, ymax):\n",
    "    p1 = -1 * (x2 - x1)\n",
    "    p2 = x2 - x1\n",
    "    p3 = -1 * (y2 - y1)\n",
    "    p4 = y2 - y1\n",
    "    q1 = x1 - xmin\n",
    "    q2 = xmax - x1\n",
    "    q3 = y1 - ymin\n",
    "    q4 = ymax - y1\n",
    "\n",
    "    p, q = computePQ(p1, p2, p, q1)\n",
    "    if p > q:\n",
    "        return\n",
    "    p, q = computePQ(p3, p4, p, q3)\n",
    "    if p > q:\n",
    "        return\n",
    "\n",
    "    if p > 0:\n",
    "        if q < 1:\n",
    "            p1 = p1 * q\n",
    "            p2 = p2 * q\n",
    "            p3 = p3 * q\n",
    "            p4 = p4 * q\n",
    "    else:\n",
    "        if q < 1:\n",
    "            p1 = p1 * q\n",
    "            p2 = p2 * q\n",
    "            p3 = p3 * q\n",
    "            p4 = p4 * q\n",
    "\n",
    "    x1_clip = int(x1 + p2)\n",
    "    y1_clip = int(y1 + p4)\n",
    "    x2_clip = int(x1 + p2 + p1)\n",
    "    y2_clip = int(y1 + p4 + p3)\n",
    "\n",
    "    plt.plot([x1_clip, x2_clip], [y1_clip, y2_clip], 'r')\n",
    "    plt.xlabel('X')\n",
    "    plt.ylabel('Y')\n",
    "    plt.title('Liang-Barsky Line Clipping')\n",
    "    plt.grid(True)\n",
    "    plt.show()\n",
    "\n",
    "# Input line coordinates and window coordinates\n",
    "x1, y1 = map(int, input(\"Enter starting point of line (x1 y1): \").split())\n",
    "x2, y2 = map(int, input(\"Enter ending point of line (x2 y2): \").split())\n",
    "xmin, ymin, xmax, ymax = map(int, input(\"Enter window coordinates (xmin ymin xmax ymax): \").split())\n",
    "\n",
    "# Plotting window\n",
    "plt.plot([xmin, xmax, xmax, xmin, xmin], [ymin, ymin, ymax, ymax, ymin], 'b')\n",
    "plt.xlabel('X')\n",
    "plt.ylabel('Y')\n",
    "plt.title('Window')\n",
    "plt.grid(True)\n",
    "\n",
    "# Plotting input line\n",
    "plt.plot([x1, x2], [y1, y2], 'g', label='Original Line')\n",
    "\n",
    "# Calling Liang-Barsky function\n",
    "liangBarsky(x1, y1, x2, y2, xmin, ymin, xmax, ymax)\n"
   ]
  },
  {
   "cell_type": "code",
   "execution_count": null,
   "metadata": {},
   "outputs": [],
   "source": []
  }
 ],
 "metadata": {
  "kernelspec": {
   "display_name": "Python 3",
   "language": "python",
   "name": "python3"
  },
  "language_info": {
   "codemirror_mode": {
    "name": "ipython",
    "version": 3
   },
   "file_extension": ".py",
   "mimetype": "text/x-python",
   "name": "python",
   "nbconvert_exporter": "python",
   "pygments_lexer": "ipython3",
   "version": "3.8.10"
  }
 },
 "nbformat": 4,
 "nbformat_minor": 4
}
